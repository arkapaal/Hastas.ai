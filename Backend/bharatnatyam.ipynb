{
  "nbformat": 4,
  "nbformat_minor": 0,
  "metadata": {
    "colab": {
      "provenance": []
    },
    "kernelspec": {
      "name": "python3",
      "display_name": "Python 3"
    },
    "language_info": {
      "name": "python"
    }
  },
  "cells": [
    {
      "cell_type": "code",
      "execution_count": null,
      "metadata": {
        "id": "bV40NbWJrjtL"
      },
      "outputs": [],
      "source": [
        "import cv2\n",
        "import numpy as np\n",
        "from tensorflow.keras.models import load_model\n",
        "import joblib\n",
        "model = load_model(\"hasta_mudra_classifier.h5\")\n",
        "le = joblib.load(\"label_encoder.pkl\")"
      ]
    },
    {
      "cell_type": "code",
      "source": [
        "import numpy as np\n",
        "from tensorflow.keras.preprocessing.image import load_img, img_to_array\n",
        "\n",
        "def predict_mudra(image_path):\n",
        "    # Load and preprocess the image\n",
        "    img = load_img(image_path, color_mode='grayscale', target_size=(48, 48))\n",
        "    img_array = img_to_array(img)\n",
        "    img_array = img_array / 255.0  # Normalize\n",
        "    img_array = np.expand_dims(img_array, axis=0)  # Add batch dimension\n",
        "\n",
        "    # Predict\n",
        "    predictions = model.predict(img_array)\n",
        "    predicted_class_index = np.argmax(predictions)\n",
        "    predicted_label = le.inverse_transform([predicted_class_index])[0]\n",
        "\n",
        "    confidence = np.max(predictions) * 100\n",
        "    return predicted_label, confidence\n"
      ],
      "metadata": {
        "id": "AGhEqcJgrok2"
      },
      "execution_count": null,
      "outputs": []
    },
    {
      "cell_type": "code",
      "source": [
        "img_path = \"/content/Kangulam_0.jpg\"  # example test image\n",
        "label, conf = predict_mudra(img_path)\n",
        "print(f\"Predicted Mudra: {label} ({conf:.2f}% confidence)\")"
      ],
      "metadata": {
        "id": "3YLX1MVDrtsZ"
      },
      "execution_count": null,
      "outputs": []
    }
  ]
}